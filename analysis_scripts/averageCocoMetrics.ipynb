{
 "cells": [
  {
   "cell_type": "markdown",
   "metadata": {},
   "source": [
    "# Average metrics and Analysis using COCO eval API"
   ]
  },
  {
   "cell_type": "markdown",
   "metadata": {},
   "source": [
    "This .ipynb uses the COCO evaluation API to perform analysis over our models, given our transformed versions of the data sets. Note that this .ipynb can only be run AFTER the 'prepareCocoOutputs.py' script has been run. This notebook performs analysis on a per model, per transform basis."
   ]
  },
  {
   "cell_type": "code",
   "execution_count": 1,
   "metadata": {},
   "outputs": [],
   "source": [
    "import os\n",
    "import glob\n",
    "import json\n",
    "import pandas as pd\n",
    "from pycocotools.coco import COCO\n",
    "from pycocotools.cocoeval import COCOeval\n",
    "from pycocotools.coco import COCO\n",
    "import numpy as np\n",
    "import time"
   ]
  },
  {
   "cell_type": "code",
   "execution_count": 7,
   "metadata": {},
   "outputs": [
    {
     "name": "stdout",
     "output_type": "stream",
     "text": [
      "loading annotations into memory...\n",
      "Done (t=0.80s)\n",
      "creating index...\n",
      "index created!\n"
     ]
    }
   ],
   "source": [
    "dataDir='../data/inputs'\n",
    "dataType='val2017'\n",
    "annFile = '%s/annotations/%s_%s.json'%(dataDir,'instances',dataType)\n",
    "annType = 'bbox'\n",
    "cocoGt=COCO(annFile)"
   ]
  },
  {
   "cell_type": "markdown",
   "metadata": {},
   "source": [
    "### Set up the transform names and model names lists."
   ]
  },
  {
   "cell_type": "code",
   "execution_count": 8,
   "metadata": {},
   "outputs": [],
   "source": [
    "#all allowed options\n",
    "transformNames = [\n",
    " 'None',\n",
    " 'gaussianblur_1',\n",
    " 'gaussianblur_10',\n",
    " 'gaussianblur_20',\n",
    " 'superpixels_0p1',\n",
    " 'superpixels_0p5',\n",
    " 'superpixels_0p85',\n",
    " 'colorspace_25',\n",
    " 'colorspace_50',\n",
    " 'averageblur_5_11',\n",
    " 'medianblur_1',\n",
    " 'sharpen_0',\n",
    " 'sharpen_1',\n",
    " 'sharpen_2',\n",
    " 'addintensity_-80',\n",
    " 'addintensity_80',\n",
    " 'elementrandomintensity_1',\n",
    " 'multiplyintensity_0p25',\n",
    " 'multiplyintensity_2',\n",
    " 'contrastnormalization_0',\n",
    " 'contrastnormalization_1',\n",
    " 'contrastnormalization_2',\n",
    " 'elastic_1'\n",
    "]\n",
    "modelNames = ['e2e_faster_rcnn_R-50-C4_2x',\n",
    "'e2e_faster_rcnn_R-50-FPN_2x',\n",
    "'e2e_faster_rcnn_R-101-FPN_2x',\n",
    "'e2e_faster_rcnn_X-101-64x4d-FPN_2x',\n",
    "'e2e_mask_rcnn_R-50-C4_2x',\n",
    "'e2e_mask_rcnn_R-50-FPN_2x',\n",
    "'e2e_mask_rcnn_R-101-FPN_2x',\n",
    "'retinanet_R-50-FPN_2x',\n",
    "'retinanet_R-101-FPN_2x',\n",
    "'retinanet_X-101-64x4d-FPN_2x']"
   ]
  },
  {
   "cell_type": "markdown",
   "metadata": {},
   "source": [
    "### Load the coco formated json output files."
   ]
  },
  {
   "cell_type": "code",
   "execution_count": 41,
   "metadata": {},
   "outputs": [
    {
     "name": "stdout",
     "output_type": "stream",
     "text": [
      "Loading and preparing results...\n",
      "DONE (t=0.02s)\n",
      "creating index...\n",
      "index created!\n"
     ]
    }
   ],
   "source": [
    "baseOrigPath = '../data/outputs/5000_original_results_coco/'\n",
    "baseTransformedPath = '../data/outputs/transformed_outputs_coco/'\n",
    "cocoDt=cocoGt.loadRes(baseTransformedPath + modelNames[3] + '/' + transformNames[3] + '.json')"
   ]
  },
  {
   "cell_type": "markdown",
   "metadata": {},
   "source": [
    "### Run the COCOeval evaluation metrics."
   ]
  },
  {
   "cell_type": "code",
   "execution_count": 43,
   "metadata": {},
   "outputs": [
    {
     "name": "stdout",
     "output_type": "stream",
     "text": [
      "Running per image evaluation...\n",
      "Evaluate annotation type *bbox*\n",
      "DONE (t=0.75s).\n",
      "Accumulating evaluation results...\n",
      "DONE (t=0.12s).\n",
      " Average Precision  (AP) @[ IoU=0.50:0.95 | area=   all | maxDets=100 ] = 0.010\n",
      " Average Precision  (AP) @[ IoU=0.50      | area=   all | maxDets=100 ] = 0.027\n",
      " Average Precision  (AP) @[ IoU=0.75      | area=   all | maxDets=100 ] = 0.006\n",
      " Average Precision  (AP) @[ IoU=0.50:0.95 | area= small | maxDets=100 ] = 0.000\n",
      " Average Precision  (AP) @[ IoU=0.50:0.95 | area=medium | maxDets=100 ] = 0.000\n",
      " Average Precision  (AP) @[ IoU=0.50:0.95 | area= large | maxDets=100 ] = 0.021\n",
      " Average Recall     (AR) @[ IoU=0.50:0.95 | area=   all | maxDets=  1 ] = 0.019\n",
      " Average Recall     (AR) @[ IoU=0.50:0.95 | area=   all | maxDets= 10 ] = 0.034\n",
      " Average Recall     (AR) @[ IoU=0.50:0.95 | area=   all | maxDets=100 ] = 0.034\n",
      " Average Recall     (AR) @[ IoU=0.50:0.95 | area= small | maxDets=100 ] = 0.000\n",
      " Average Recall     (AR) @[ IoU=0.50:0.95 | area=medium | maxDets=100 ] = 0.000\n",
      " Average Recall     (AR) @[ IoU=0.50:0.95 | area= large | maxDets=100 ] = 0.103\n",
      "Total time to run was <class 'str'> seconds.\n"
     ]
    }
   ],
   "source": [
    "imgIds = []\n",
    "with open(baseTransformedPath + modelNames[0] + '/' + transformNames[3] + '.json', 'r') as f:\n",
    "    data = json.load(f)\n",
    "for jsonObject in data:\n",
    "    imgIds.append(jsonObject['image_id'])\n",
    "imgIds = list(set(imgIds))\n",
    "\n",
    "startTime = time.time()\n",
    "cocoEval = COCOeval(cocoGt,cocoDt,annType)\n",
    "# Set the evaluation parameters.\n",
    "cocoEval.params.imgIds = imgIds\n",
    "cocoEval.params.catIds = [1]\n",
    "#cocoEval.params.maxDets = [9, 10, 11]\n",
    "cocoEval.params.iouType = annType\n",
    "#cocoEval.params.recThrs = [0.1, 0.5, 0.8, 0.9]\n",
    "\n",
    "# Run the evaluation.\n",
    "cocoEval.evaluate()\n",
    "cocoEval.accumulate()\n",
    "cocoEval.summarize()\n",
    "endTime = time.time()\n",
    "print('Total time to run was %s seconds.'%(str))"
   ]
  },
  {
   "cell_type": "code",
   "execution_count": null,
   "metadata": {},
   "outputs": [],
   "source": []
  },
  {
   "cell_type": "code",
   "execution_count": null,
   "metadata": {},
   "outputs": [],
   "source": []
  },
  {
   "cell_type": "code",
   "execution_count": null,
   "metadata": {},
   "outputs": [],
   "source": []
  },
  {
   "cell_type": "code",
   "execution_count": null,
   "metadata": {},
   "outputs": [],
   "source": []
  },
  {
   "cell_type": "code",
   "execution_count": null,
   "metadata": {},
   "outputs": [],
   "source": []
  },
  {
   "cell_type": "code",
   "execution_count": null,
   "metadata": {},
   "outputs": [],
   "source": []
  },
  {
   "cell_type": "code",
   "execution_count": null,
   "metadata": {},
   "outputs": [],
   "source": []
  },
  {
   "cell_type": "code",
   "execution_count": null,
   "metadata": {},
   "outputs": [],
   "source": []
  },
  {
   "cell_type": "code",
   "execution_count": null,
   "metadata": {},
   "outputs": [],
   "source": []
  }
 ],
 "metadata": {
  "kernelspec": {
   "display_name": "Python 3",
   "language": "python",
   "name": "python3"
  },
  "language_info": {
   "codemirror_mode": {
    "name": "ipython",
    "version": 3
   },
   "file_extension": ".py",
   "mimetype": "text/x-python",
   "name": "python",
   "nbconvert_exporter": "python",
   "pygments_lexer": "ipython3",
   "version": "3.6.4"
  }
 },
 "nbformat": 4,
 "nbformat_minor": 2
}
