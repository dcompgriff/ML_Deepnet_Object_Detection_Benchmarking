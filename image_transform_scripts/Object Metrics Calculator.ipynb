{
 "cells": [
  {
   "cell_type": "code",
   "execution_count": 1,
   "metadata": {
    "collapsed": true
   },
   "outputs": [],
   "source": [
    "import os\n",
    "import glob\n",
    "import json\n",
    "import pandas as pd\n",
    "from pycocotools.coco import COCO\n",
    "from pycocotools.cocoeval import COCOeval"
   ]
  },
  {
   "cell_type": "code",
   "execution_count": 2,
   "metadata": {
    "collapsed": true
   },
   "outputs": [],
   "source": [
    "dataF = 'G:/edu/sem2/766/proj/ML_OD_Benchmarking/data/'\n"
   ]
  },
  {
   "cell_type": "code",
   "execution_count": 3,
   "metadata": {},
   "outputs": [
    {
     "name": "stdout",
     "output_type": "stream",
     "text": [
      "loading annotations into memory...\n",
      "Done (t=0.66s)\n",
      "creating index...\n",
      "index created!\n"
     ]
    }
   ],
   "source": [
    "anntF = dataF+'inputs/annotations/instances_val2017.json'\n",
    "cocoGt=COCO(anntF)"
   ]
  },
  {
   "cell_type": "code",
   "execution_count": 4,
   "metadata": {
    "collapsed": true
   },
   "outputs": [],
   "source": [
    "def objInfo(img):\n",
    "    scores = []\n",
    "    imgId = img['image_id']\n",
    "    ##Handle detected objects\n",
    "    matches = {'None':0}\n",
    "    #Skip objects with low confidence, they are not classified at all\n",
    "    objects = [_ for _ in img['objects'] if _['score']>=0.5 ]\n",
    "    #find number of objects matching to the same annotation\n",
    "    for obj in objects:\n",
    "        id = obj['matchObjectId']\n",
    "        id = 'None' if id is None else str(id)#include 'None' match as well\n",
    "        matches[id] = (matches[id] if id in matches else 0)+1#increment count\n",
    "    for obj in objects:\n",
    "        #just need info on predicted and actual class.\n",
    "        #actual class is class of bbox this object matched to.\n",
    "        #actual class could be None, if this object didnt match to any bbox\n",
    "        id = obj['matchObjectId']\n",
    "        id = 'None' if id is None else str(id)\n",
    "        scores.append({'predicted':obj['detClass'],\n",
    "                       'actual':obj['matchClass'],\n",
    "                       'matchId': id,#string here\n",
    "                       'wt':(1/matches[id]) if id in matches else 0,\n",
    "                       'score':obj['score'],\n",
    "                       'image_id':imgId,\n",
    "                       'transform':img['transform']})\n",
    "        #TP = (predicted==class and actual==class)*wt\n",
    "        #FP = (predicted==class and actual!=class)*wt\n",
    "        #weighting done as many detected objects are matched to same annotated object. \n",
    "        #total wt per annotated object = 1, including 'None' match\n",
    "    ##Handle undetected objects\n",
    "    dt = pd.DataFrame(cocoGt.loadAnns(cocoGt.getAnnIds(imgIds = [imgId])))\n",
    "    for _,obj in dt.iterrows():\n",
    "        id = str(obj['id'])\n",
    "        if id not in matches:\n",
    "            scores.append({'predicted':None,\n",
    "                           'actual':obj['category_id'],\n",
    "                           'matchId': id,#string here\n",
    "                           'wt':1,#annotation that were not detected have Wt=1 for each as above\n",
    "                           'score':0,\n",
    "                           'image_id':imgId,\n",
    "                           'transform':img['transform']})#0 as NN did not predict this object\n",
    "        #FN = (actual==class and predicted!=class)*wt\n",
    "        #TN = (actual!=class and predicted!=class)*wt\n",
    "    \n",
    "    return scores\n",
    "#def imageInfo(img):\n",
    "#    imgId = img['image_id']\n",
    "#    det = len(pd.DataFrame(cocoGt.loadAnns(cocoGt.getAnnIds(imgIds = [imgId]))))\n",
    "#    FN =  det- img['uniqueMatches']\n",
    "#    imginfo = {\n",
    "#        'id':img['image_id'],\n",
    "#        'transform':img['transform'],\n",
    "#        'total_detected':img['totalDetected'],\n",
    "#        'total_annotated':det,#total distinct objects annotated\n",
    "#        'matched':img['matched'],\n",
    "#        'unique_matches':img['uniqueMatches'],#total unique objects detected\n",
    "#        }#annotation that were not detected. Wt=1 for each similar to objInfo\n",
    "#    return imginfo\n",
    "def modelObjectScores(jsons):\n",
    "    objects= []\n",
    "    for i, js in enumerate(jsons):\n",
    "        if i>0:\n",
    "            break\n",
    "        #print(js)\n",
    "        with open(js) as fd:\n",
    "            imgs = json.load(fd)\n",
    "        for _,img in imgs.items():\n",
    "            objects = objects+objInfo(img)\n",
    "    return objects"
   ]
  },
  {
   "cell_type": "code",
   "execution_count": 5,
   "metadata": {},
   "outputs": [
    {
     "name": "stdout",
     "output_type": "stream",
     "text": [
      "22 24\n"
     ]
    }
   ],
   "source": [
    "valueTransforms = ['gaussianblur_1',\n",
    " 'gaussianblur_10',\n",
    " 'gaussianblur_20',\n",
    " 'superpixels_0p1',\n",
    " 'superpixels_0p5',\n",
    " 'superpixels_0p85',\n",
    " 'colorspace_25',\n",
    " 'colorspace_50',\n",
    " 'averageblur_5_11',\n",
    " 'medianblur_1',\n",
    " 'sharpen_0',\n",
    " 'sharpen_1',\n",
    " 'sharpen_2',\n",
    " 'addintensity_-80',\n",
    " 'addintensity_80',\n",
    " 'elementrandomintensity_1',\n",
    " 'multiplyintensity_0p25',\n",
    " 'multiplyintensity_2',\n",
    " 'contrastnormalization_0',\n",
    " 'contrastnormalization_1',\n",
    " 'contrastnormalization_2',\n",
    " 'elastic_1']\n",
    "spaceTransforms = ['scaled_1p25',\n",
    " 'scaled_0p75',\n",
    " 'scaled_0p5',\n",
    " 'scaled_(1p25, 1p0)',\n",
    " 'scaled_(0p75, 1p0)',\n",
    " 'scaled_(1p0, 1p25)',\n",
    " 'scaled_(1p0, 0p75)',\n",
    " 'translate_(0p1, 0p1)',\n",
    " 'translate_(0p1, -0p1)',\n",
    " 'translate_(-0p1, 0p1)',\n",
    " 'translate_(-0p1, -0p1)',\n",
    " 'translate_(0p1, 0)',\n",
    " 'translate_(-0p1, 0)',\n",
    " 'translate_(0, 0p1)',\n",
    " 'translate_(0, -0p1)',\n",
    " 'rotated_3',\n",
    " 'rotated_5',\n",
    " 'rotated_10',\n",
    " 'rotated_45',\n",
    " 'rotated_60',\n",
    " 'rotated_90',\n",
    " 'flipH',\n",
    " 'flipV',\n",
    " 'dropout',\n",
    " ]\n",
    "print(len(valueTransforms), len(spaceTransforms))"
   ]
  },
  {
   "cell_type": "code",
   "execution_count": 6,
   "metadata": {},
   "outputs": [],
   "source": [
    "#Files to read\n",
    "models = ['e2e_faster_rcnn_R-50-C4_2x',\n",
    "'e2e_faster_rcnn_R-50-FPN_2x',\n",
    "'e2e_faster_rcnn_R-101-FPN_2x',\n",
    "'e2e_faster_rcnn_X-101-64x4d-FPN_2x',\n",
    "'e2e_mask_rcnn_R-50-C4_2x',\n",
    "'e2e_mask_rcnn_R-50-FPN_2x',\n",
    "'e2e_mask_rcnn_R-101-FPN_2x',\n",
    "'retinanet_R-50-FPN_2x',\n",
    "'retinanet_R-101-FPN_2x',\n",
    "'retinanet_X-101-64x4d-FPN_2x']\n",
    "outputs = dataF+'outputs/'\n",
    "\n",
    "newResF = outputs +'5000_original_results_matches/'\n",
    "newTranF = outputs + 'transformed_outputs_matches/'\n",
    "newSpaceF = outputs + 'transformed_spatial_output_matches/'\n",
    "#create new directories\n",
    "out = outputs+'metrics/'\n",
    "if not os.path.exists(out):\n",
    "    os.makedirs(out)\n",
    "#List of all transforms\n",
    "pathsV = [[newTranF+_+'/',_] for _ in valueTransforms]\n",
    "pathsS = [[newSpaceF+_+'/',_] for _ in spaceTransforms]\n",
    "objects = []\n",
    "for algo in models[0:1]:\n",
    "    for path in [[newResF,'None']]+pathsV+pathsS:\n",
    "        jsonF = path[0]+algo+'/'\n",
    "        jsons = glob.iglob(jsonF + '*.json')\n",
    "        objects = modelObjectScores(jsons)\n",
    "        dt = pd.DataFrame(objects)\n",
    "        dt.to_csv(out+path[1]+'_'+algo+'.csv', index=False)"
   ]
  },
  {
   "cell_type": "code",
   "execution_count": 7,
   "metadata": {},
   "outputs": [
    {
     "ename": "ModuleNotFoundError",
     "evalue": "No module named 'pp'",
     "output_type": "error",
     "traceback": [
      "\u001b[1;31m---------------------------------------------------------------------------\u001b[0m",
      "\u001b[1;31mModuleNotFoundError\u001b[0m                       Traceback (most recent call last)",
      "\u001b[1;32m<ipython-input-7-30284c9b2be7>\u001b[0m in \u001b[0;36m<module>\u001b[1;34m()\u001b[0m\n\u001b[1;32m----> 1\u001b[1;33m \u001b[1;32mimport\u001b[0m \u001b[0mpp\u001b[0m\u001b[1;33m\u001b[0m\u001b[0m\n\u001b[0m",
      "\u001b[1;31mModuleNotFoundError\u001b[0m: No module named 'pp'"
     ]
    }
   ],
   "source": []
  }
 ],
 "metadata": {
  "kernelspec": {
   "display_name": "Python 3",
   "language": "python",
   "name": "python3"
  },
  "language_info": {
   "codemirror_mode": {
    "name": "ipython",
    "version": 3
   },
   "file_extension": ".py",
   "mimetype": "text/x-python",
   "name": "python",
   "nbconvert_exporter": "python",
   "pygments_lexer": "ipython3",
   "version": "3.6.1"
  }
 },
 "nbformat": 4,
 "nbformat_minor": 2
}
