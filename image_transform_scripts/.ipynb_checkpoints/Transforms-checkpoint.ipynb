{
 "cells": [
  {
   "cell_type": "code",
   "execution_count": 1,
   "metadata": {
    "collapsed": true
   },
   "outputs": [],
   "source": [
    "import numpy as np\n",
    "import skimage.io as io\n",
    "import matplotlib.pyplot as plt\n",
    "import pylab\n",
    "\n",
    "import argparse\n",
    "import os\n",
    "import sys\n",
    "import glob\n",
    "import shutil\n",
    "from multiprocessing import Pool"
   ]
  },
  {
   "cell_type": "code",
   "execution_count": 2,
   "metadata": {
    "collapsed": true
   },
   "outputs": [],
   "source": [
    "import imgaug as ia\n",
    "from imgaug import augmenters as iaa"
   ]
  },
  {
   "cell_type": "code",
   "execution_count": 3,
   "metadata": {
    "collapsed": true
   },
   "outputs": [],
   "source": [
    "# Set initial pylab parameters.\n",
    "pylab.rcParams['figure.figsize'] = (8.0, 10.0)\n",
    "GLOBAL_ARGS = None\n",
    "# Define transform sequence objects.\n",
    "transformerList = []\n",
    "transformerNameList = []"
   ]
  },
  {
   "cell_type": "code",
   "execution_count": 4,
   "metadata": {
    "collapsed": true
   },
   "outputs": [],
   "source": [
    "#Value transforms\n",
    "\n",
    "# Add gaussian blurs (Focus type blurs)\n",
    "for mSigma in [1, 10, 20]:\n",
    "    transformerList.append(iaa.Sequential([\n",
    "        iaa.GaussianBlur(sigma=(mSigma))  # blur images with a sigma of 0 to 3.0\n",
    "    ]))\n",
    "    transformerNameList.append('gaussianblur_' + str(mSigma).replace('.','p') + '__')\n",
    "# Add super pixel transforms. (Region color and shape based sensitivity)\n",
    "for pReplace in [0.1, 0.5, 0.85]:\n",
    "    transformerList.append(iaa.Sequential([\n",
    "        iaa.Superpixels(p_replace=pReplace, n_segments=128)\n",
    "    ]))\n",
    "    transformerNameList.append('superpixels_' + str(pReplace).replace('.','p') + '__')\n",
    "# Add hue based transforms. (Color sensitivity testing)\n",
    "for hue in [25, 50]:\n",
    "    transformerList.append(iaa.Sequential([\n",
    "        iaa.ChangeColorspace(from_colorspace=\"RGB\", to_colorspace=\"HSV\"),\n",
    "        iaa.WithChannels(0, iaa.Add((hue))),\n",
    "        iaa.ChangeColorspace(from_colorspace=\"HSV\", to_colorspace=\"RGB\")\n",
    "    ]))\n",
    "    transformerNameList.append('colorspace_' + str(hue).replace('.','p') + '__')\n",
    "# Add average type blurs. (Shaky camera or moving object type blurs)\n",
    "for width, height in [(5, 11)]:\n",
    "    transformerList.append(iaa.Sequential([\n",
    "        iaa.AverageBlur(k=((width), (height)))\n",
    "    ]))\n",
    "    transformerNameList.append('averageblur_' + str(width) + '_' + str(height) + '__')\n",
    "# Add median type blurs. (Region type blurs)\n",
    "for size in [1]:\n",
    "    transformerList.append(iaa.Sequential([\n",
    "        iaa.MedianBlur(k=(3, 11))\n",
    "    ]))\n",
    "    transformerNameList.append('medianblur_' + str(size) + '__')\n",
    "# Add sharpen type affects. (Lighting type issues)\n",
    "for num in range(3):\n",
    "    transformerList.append(iaa.Sequential([\n",
    "        iaa.Sharpen(alpha=(0.0, 1.0), lightness=(0.75, 2.0))\n",
    "    ]))\n",
    "    transformerNameList.append('sharpen_' + str(num) + '__')\n",
    "# Add intensity type affects. (Lighting type issues)\n",
    "for num in [-80, 80]:\n",
    "    transformerList.append(iaa.Sequential([\n",
    "        iaa.Add((num))\n",
    "    ]))\n",
    "    transformerNameList.append('addintensity_' + str(num) + '__')\n",
    "# Add random intensity type affects. (Intensity noise type issues)\n",
    "for num in [1]:\n",
    "    transformerList.append(iaa.Sequential([\n",
    "        iaa.AddElementwise((-80, 80))\n",
    "    ]))\n",
    "    transformerNameList.append('elementrandomintensity_' + str(num) + '__')\n",
    "# Add lighting intensity type affects. (Lighting type issues)\n",
    "for num in [.25, 2]:\n",
    "    transformerList.append(iaa.Sequential([\n",
    "        iaa.Multiply((num))\n",
    "    ]))\n",
    "    transformerNameList.append('multiplyintensity_' + str(num).replace('.','p') + '__')\n",
    "# Add contrast type affects. (Color type issues)\n",
    "for num in range(3):\n",
    "    transformerList.append(iaa.Sequential([\n",
    "        iaa.ContrastNormalization((0.5, 1.5), per_channel=0.5)\n",
    "    ]))\n",
    "    transformerNameList.append('contrastnormalization_' + str(num).replace('.','p') + '__')\n",
    "# Add elastic type affects. (Color, moving pixels, locality type issues) Almost like looking through a rainy windshield.\n",
    "for num in [1]:\n",
    "    transformerList.append(iaa.Sequential([\n",
    "        iaa.ElasticTransformation(alpha=(5.0), sigma=0.25)\n",
    "    ]))\n",
    "    transformerNameList.append('elastic_' + str(num).replace('.','p') + '__')"
   ]
  },
  {
   "cell_type": "markdown",
   "metadata": {},
   "source": []
  },
  {
   "cell_type": "raw",
   "metadata": {},
   "source": [
    "#Adding space transforms\n",
    "\n",
    "# Change image scale keeping aspect ratio same ( same scaling of width and height)\n",
    "for scale in [.9,.75,.5]:\n",
    "    transformerList.append(iaa.Sequential([\n",
    "        iaa.Scale(scale)\n",
    "    ]))\n",
    "    transformerNameList.append('scaled_' + str(scale).replace('.','p') + '__')\n",
    "# Change image scale not keeping aspect ratio same ( unequal scaling of width and height)\n",
    "for scale in [(.9,1.0), (.75,1.0), (1.0,.9), (1.0,.75)]:#125% or 75% of one of the dimensions\n",
    "    transformerList.append(iaa.Sequential([\n",
    "        iaa.Scale({\"height\": scale[0], \"width\": scale[1]})\n",
    "    ]))\n",
    "    transformerNameList.append('scaled_' + str(scale).replace('.','p') + '__')\n",
    "# Change orientation by few small angles and few large angles\n",
    "for theta in [3,5,10,45,60,90]:#all rotations are clockwise for now\n",
    "    transformerList.append(iaa.Sequential([\n",
    "        iaa.Affine(rotate=theta)\n",
    "    ]))\n",
    "    transformerNameList.append('rotated_' + str(theta).replace('.','p') + '__')\n",
    "# Flip images horizontly\n",
    "for _ in [1]:\n",
    "    transformerList.append(iaa.Sequential([\n",
    "        iaa.Fliplr(1.0)\n",
    "    ]))\n",
    "    transformerNameList.append('flipH__')\n",
    "# \n",
    "for _ in [1]\n",
    "    transformerList.append(iaa.Sequential([\n",
    "        iaa.Flipud(1.0)\n",
    "    ]))\n",
    "    transformerNameList.append('flipV__')\n",
    "    \n"
   ]
  },
  {
   "cell_type": "code",
   "execution_count": 10,
   "metadata": {},
   "outputs": [],
   "source": [
    "#Adding space transforms\n",
    "\n",
    "# Change image scale keeping aspect ratio same ( same scaling of width and height)\n",
    "for scale in [.9,.75,.5]:\n",
    "    transformerList.append(iaa.Sequential([\n",
    "        iaa.Scale(scale)\n",
    "    ]))\n",
    "    transformerNameList.append('scaled_' + str(scale).replace('.','p') + '__')\n",
    "# Change image scale not keeping aspect ratio same ( unequal scaling of width and height)\n",
    "for scale in [(.9,1.0), (.75,1.0), (1.0,.9), (1.0,.75)]:#125% or 75% of one of the dimensions\n",
    "    transformerList.append(iaa.Sequential([\n",
    "        iaa.Scale({\"height\": scale[0], \"width\": scale[1]})\n",
    "    ]))\n",
    "    transformerNameList.append('scaled_' + str(scale).replace('.','p') + '__')\n",
    "# Change orientation by few small angles and few large angles\n",
    "for theta in [3,5,10,45,60,90]:#all rotations are clockwise for now\n",
    "    transformerList.append(iaa.Sequential([\n",
    "        iaa.Affine(rotate=theta)\n",
    "    ]))\n",
    "    transformerNameList.append('rotated_' + str(theta).replace('.','p') + '__')\n",
    "# Flip images horizontly\n",
    "for _ in [1]:\n",
    "    transformerList.append(iaa.Sequential([\n",
    "        iaa.Fliplr(1.0)\n",
    "    ]))\n",
    "    transformerNameList.append('flipH__')\n",
    "# Flip images vertically\n",
    "for _ in [1]:\n",
    "    transformerList.append(iaa.Sequential([\n",
    "        iaa.Flipud(1.0)\n",
    "    ]))\n",
    "    transformerNameList.append('flipV__')\n",
    "    \n"
   ]
  },
  {
   "cell_type": "code",
   "execution_count": 6,
   "metadata": {
    "collapsed": true
   },
   "outputs": [],
   "source": [
    "def parse_args():\n",
    "    parser = argparse.ArgumentParser(description='Image Transformer')\n",
    "    parser.add_argument(\n",
    "        '--output-dir',\n",
    "        dest='output_dir',\n",
    "        help='directory for transformed images.',\n",
    "        default='../data/inputs/transformed/',\n",
    "        type=str\n",
    "    )\n",
    "    parser.add_argument(\n",
    "        '--image-ext',\n",
    "        dest='image_ext',\n",
    "        help='image file name extension (default: jpg)',\n",
    "        default='jpg',\n",
    "        type=str\n",
    "    )\n",
    "    parser.add_argument(\n",
    "        '--num-cores',\n",
    "        dest='num_cores',\n",
    "        help='number of cores to use when performing transformations in parallel.',\n",
    "        default=8,\n",
    "        type=int\n",
    "    )\n",
    "    parser.add_argument(\n",
    "        '--replace-output-dir',\n",
    "        dest='replace_output_dir',\n",
    "        help='should the output directory be replaced or not. 1=True 0=False',\n",
    "        default=0,\n",
    "        type=int\n",
    "    )\n",
    "    parser.add_argument(\n",
    "        'im_or_folder', help='image or folder of images', default=None\n",
    "    )\n",
    "    #if len(sys.argv) == 1:\n",
    "    #    parser.print_help()\n",
    "    #    sys.exit(1)\n",
    "    #For use in jupyter only\n",
    "    #print(sys.argv)\n",
    "    inputDir = 'G:/edu/sem2/766/proj/ML_OD_Benchmarking/data/inputs/val2017/'\n",
    "    imgFile = '000000076547.jpg'\n",
    "    sys.argv = ['python2', (inputDir+imgFile)]\n",
    "    #End of Jupyter only content\n",
    "    return parser.parse_args()"
   ]
  },
  {
   "cell_type": "code",
   "execution_count": 7,
   "metadata": {
    "collapsed": true
   },
   "outputs": [],
   "source": [
    "# Apply all image transforms for the given image.\n",
    "def applyAllTransforms(im_name, display=False):\n",
    "    # Get the base name for the image.\n",
    "    print('Transforming %s' % im_name)\n",
    "    baseImgName = os.path.basename(im_name)\n",
    "    I = io.imread(im_name)\n",
    "\n",
    "    # Apply the transforms in the transformer list.\n",
    "    for i, seq in enumerate(transformerList):\n",
    "        IaugName = transformerNameList[i]+baseImgName\n",
    "        Iaug = seq.augment_image(I)\n",
    "        io.imsave(GLOBAL_ARGS.output_dir + IaugName, Iaug)\n",
    "\n",
    "        if display:\n",
    "            plt.axis('off')\n",
    "            plt.imshow(Iaug)\n",
    "            plt.show()"
   ]
  },
  {
   "cell_type": "code",
   "execution_count": 8,
   "metadata": {
    "collapsed": true
   },
   "outputs": [],
   "source": [
    "def main(args):\n",
    "    # Get the image paths to the specified input folder.\n",
    "    if os.path.isdir(args.im_or_folder):\n",
    "        im_list = glob.iglob(args.im_or_folder + '/*.' + args.image_ext)\n",
    "    else:\n",
    "        im_list = [args.im_or_folder]\n",
    "\n",
    "    # Check for existence of ouput dir, or make it.\n",
    "    if args.replace_output_dir == 1:\n",
    "        if os.path.exists(args.output_dir):\n",
    "            shutil.rmtree(args.output_dir)\n",
    "        os.makedirs(args.output_dir)\n",
    "    else:\n",
    "        if not os.path.exists(args.output_dir):\n",
    "            os.makedirs(args.output_dir)\n",
    "            \n",
    "    # For each image, apply the set of transforms, generate new images, and output them to\n",
    "    # the specified directory.\n",
    "    for i, im_name in enumerate(im_list):\n",
    "        print(\"Image %d\"%i)\n",
    "        applyAllTransforms(im_name)\n"
   ]
  },
  {
   "cell_type": "code",
   "execution_count": 12,
   "metadata": {},
   "outputs": [
    {
     "name": "stdout",
     "output_type": "stream",
     "text": [
      "Image 0\n",
      "Transforming G:/edu/sem2/766/proj/ML_OD_Benchmarking/data/inputs/val2017/000000076547.jpg\n"
     ]
    }
   ],
   "source": [
    "args = parse_args()\n",
    "GLOBAL_ARGS = args\n",
    "main(args)"
   ]
  },
  {
   "cell_type": "code",
   "execution_count": null,
   "metadata": {
    "collapsed": true
   },
   "outputs": [],
   "source": []
  }
 ],
 "metadata": {
  "kernelspec": {
   "display_name": "Python 2",
   "language": "python",
   "name": "python2"
  },
  "language_info": {
   "codemirror_mode": {
    "name": "ipython",
    "version": 2
   },
   "file_extension": ".py",
   "mimetype": "text/x-python",
   "name": "python",
   "nbconvert_exporter": "python",
   "pygments_lexer": "ipython2",
   "version": "2.7.13"
  }
 },
 "nbformat": 4,
 "nbformat_minor": 2
}
