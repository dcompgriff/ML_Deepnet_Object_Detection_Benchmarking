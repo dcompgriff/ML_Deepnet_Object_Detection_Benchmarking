{
 "cells": [
  {
   "cell_type": "code",
   "execution_count": 1,
   "metadata": {},
   "outputs": [
    {
     "name": "stdout",
     "output_type": "stream",
     "text": [
      "loading annotations into memory...\n",
      "Done (t=0.80s)\n",
      "creating index...\n",
      "index created!\n"
     ]
    }
   ],
   "source": [
    "import pandas as pd\n",
    "from pycocotools.coco import COCO\n",
    "\n",
    "dataF = 'G:/edu/sem2/766/proj/ML_OD_Benchmarking/data/'\n",
    "metricF = dataF+'outputs/metrics/'\n",
    "anntF = dataF+'inputs/annotations/instances_val2017.json'\n",
    "coco=COCO(anntF)\n",
    "\n"
   ]
  },
  {
   "cell_type": "code",
   "execution_count": 2,
   "metadata": {
    "collapsed": true
   },
   "outputs": [],
   "source": [
    "transformNames = ['gaussianblur_1',\n",
    " 'gaussianblur_10',\n",
    " 'gaussianblur_20',\n",
    " 'superpixels_0p1',\n",
    " 'superpixels_0p5',\n",
    " 'superpixels_0p85',\n",
    " 'colorspace_25',\n",
    " 'colorspace_50',\n",
    " 'averageblur_5_11',\n",
    " 'medianblur_1',\n",
    " 'sharpen_0',\n",
    " 'sharpen_1',\n",
    " 'sharpen_2',\n",
    " 'addintensity_-80',\n",
    " 'addintensity_80',\n",
    " 'elementrandomintensity_1',\n",
    " 'multiplyintensity_0p25',\n",
    " 'multiplyintensity_2',\n",
    " 'contrastnormalization_0',\n",
    " 'contrastnormalization_1',\n",
    " 'contrastnormalization_2',\n",
    " 'elastic_1'\n",
    " 'scaled_1p25',\n",
    " 'scaled_0p75',\n",
    " 'scaled_0p5',\n",
    " 'scaled_(1p25, 1p0)',\n",
    " 'scaled_(0p75, 1p0)',\n",
    " 'scaled_(1p0, 1p25)',\n",
    " 'scaled_(1p0, 0p75)',\n",
    " 'translate_(0p1, 0p1)',\n",
    " 'translate_(0p1, -0p1)',\n",
    " 'translate_(-0p1, 0p1)',\n",
    " 'translate_(-0p1, -0p1)',\n",
    " 'translate_(0p1, 0)',\n",
    " 'translate_(-0p1, 0)',\n",
    " 'translate_(0, 0p1)',\n",
    " 'translate_(0, -0p1)',\n",
    " 'rotated_3',\n",
    " 'rotated_5',\n",
    " 'rotated_10',\n",
    " 'rotated_45',\n",
    " 'rotated_60',\n",
    " 'rotated_90',\n",
    " 'flipH',\n",
    " 'flipV',\n",
    " 'dropout',\n",
    " ]\n",
    "modelNames = ['e2e_faster_rcnn_R-50-C4_2x',\n",
    "'e2e_faster_rcnn_R-50-FPN_2x',\n",
    "'e2e_faster_rcnn_R-101-FPN_2x',\n",
    "'e2e_faster_rcnn_X-101-64x4d-FPN_2x',\n",
    "'e2e_mask_rcnn_R-50-C4_2x',\n",
    "'e2e_mask_rcnn_R-50-FPN_2x',\n",
    "'e2e_mask_rcnn_R-101-FPN_2x',\n",
    "'retinanet_R-50-FPN_2x',\n",
    "'retinanet_R-101-FPN_2x',\n",
    "'retinanet_X-101-64x4d-FPN_2x']\n",
    "cats = coco.loadCats(coco.getCatIds())\n",
    "metrics = [\n",
    "    'precision',\n",
    "    'recall',\n",
    "    'accuracy',\n",
    "    'TP',\n",
    "    'FP',\n",
    "    'FN'\n",
    "]"
   ]
  },
  {
   "cell_type": "code",
   "execution_count": 3,
   "metadata": {
    "collapsed": true
   },
   "outputs": [],
   "source": [
    "args = ['',modelNames[0], transformNames[0], 'person', metrics[0]]\n",
    "\n",
    "if args[1] not in modelNames:\n",
    "    raise ValueError('Model: '+args[1]+' not found')\n",
    "model = args[1]#Single model only, not all\n",
    "if args[2]=='all':\n",
    "    transform = transformNames\n",
    "elif args[2] not in transformNames:\n",
    "    raise ValueError('Transform: '+args[2]+' not found')\n",
    "else:\n",
    "    transform = [args[2]]\n",
    "if args[3] =='all':\n",
    "    classes = [cat['id'] for cat in cats]\n",
    "else:\n",
    "    try:\n",
    "        id = int(args[3])\n",
    "    except:\n",
    "        cat = [cat for cat in cats if (cat['name'] == args[3] or cat['supercategory']==args[3])]\n",
    "        if len(cat)==0:\n",
    "            raise ValueError('Category name: '+args[3]+' not found')\n",
    "        else:\n",
    "            id = cat[0]['id']\n",
    "    if id<1 or id>80:\n",
    "        raise ValueError('Category ID: '+str(id)+' not found')\n",
    "    classes = [id]\n",
    "if args[4] not in metrics:\n",
    "    raise ValueError('Unknown metric to compute: '+args[4])\n"
   ]
  },
  {
   "cell_type": "code",
   "execution_count": 4,
   "metadata": {},
   "outputs": [
    {
     "name": "stdout",
     "output_type": "stream",
     "text": [
      "7218\n",
      "3964\n",
      "11182\n"
     ]
    }
   ],
   "source": [
    "def partition(model,transform,classes):\n",
    "    file = metricF+transform+'_'+model+'.csv'\n",
    "    dt = pd.read_csv(file)\n",
    "    dt = dt[dt['actual'].isin(classes) | dt['predicted'].isin(classes)]#Take both in order to get TP,FN,FN\n",
    "    return dt\n",
    "d1 = partition(model, transformNames[0], [1])\n",
    "d2 = partition(model, transformNames[1], [1])\n",
    "d3 = pd.concat([d1,d2], ignore_index=True)\n",
    "print(len(d1))\n",
    "print(len(d2))\n",
    "print(len(d3))"
   ]
  },
  {
   "cell_type": "code",
   "execution_count": 5,
   "metadata": {},
   "outputs": [
    {
     "name": "stdout",
     "output_type": "stream",
     "text": [
      "11182\n"
     ]
    }
   ],
   "source": [
    "def multPartition(model, transforms, classes):\n",
    "    prt = []\n",
    "    for tr in transforms:\n",
    "        prt.append(partition(model, tr, classes))\n",
    "    return pd.concat(prt)\n",
    "print(len(multPartition(model,transformNames[0:2],classes)))"
   ]
  }
 ],
 "metadata": {
  "kernelspec": {
   "display_name": "Python 3",
   "language": "python",
   "name": "python3"
  },
  "language_info": {
   "codemirror_mode": {
    "name": "ipython",
    "version": 3
   },
   "file_extension": ".py",
   "mimetype": "text/x-python",
   "name": "python",
   "nbconvert_exporter": "python",
   "pygments_lexer": "ipython3",
   "version": "3.6.1"
  }
 },
 "nbformat": 4,
 "nbformat_minor": 2
}
